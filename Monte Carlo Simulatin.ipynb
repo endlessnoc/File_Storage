{
 "cells": [
  {
   "cell_type": "markdown",
   "metadata": {},
   "source": [
    "# When it comes to Monte Carlo simulations, a classic example is to estimate the value of π (pi). \n",
    "# The Monte Carlo method involves generating random points within a shape(E.g. Square), and then calculating the proportion of these points that fall within another shape(E.g. Circle), aiming to estimate the area ratio of the shapes."
   ]
  },
  {
   "cell_type": "code",
   "execution_count": null,
   "metadata": {},
   "outputs": [],
   "source": [
    "import random\n",
    "import matplotlib.pyplot as plt\n",
    "\n",
    "num_samples = 1000\n",
    "\n",
    "# 初始化內外計數器\n",
    "inside_circle = 0\n",
    "outside_circle = 0\n",
    "\n",
    "# 儲存在圓內的點的座標\n",
    "circle_x = []\n",
    "circle_y = []\n",
    "\n",
    "# 生成隨機點並判斷是否在圓內\n",
    "for _ in range(num_samples):\n",
    "    x = random.uniform(0, 1)\n",
    "    y = random.uniform(0, 1)\n",
    "    distance = x**2 + y**2  # 距離原點的距離\n",
    "    if distance <= 1:\n",
    "        inside_circle += 1\n",
    "        circle_x.append(x)\n",
    "        circle_y.append(y)\n",
    "    else:\n",
    "        outside_circle += 1\n",
    "\n",
    "# 估算圓周率的值\n",
    "pi_estimate = (inside_circle / num_samples) * 4\n",
    "\n",
    "# 視覺化結果\n",
    "plt.figure(figsize=(6, 6))\n",
    "plt.scatter(circle_x, circle_y, color='blue', marker='.')\n",
    "plt.scatter([], [], color='white', label=f'π ≈ {pi_estimate:.5f}')\n",
    "plt.legend(loc='upper right')\n",
    "plt.title(f'Monte Carlo Simulation of π (Samples: {num_samples})')\n",
    "plt.xlim(0, 1)\n",
    "plt.ylim(0, 1)\n",
    "plt.gca().set_aspect('equal', adjustable='box')\n",
    "plt.show()\n"
   ]
  }
 ],
 "metadata": {
  "kernelspec": {
   "display_name": "Python 3 (ipykernel)",
   "language": "python",
   "name": "python3"
  },
  "language_info": {
   "codemirror_mode": {
    "name": "ipython",
    "version": 3
   },
   "file_extension": ".py",
   "mimetype": "text/x-python",
   "name": "python",
   "nbconvert_exporter": "python",
   "pygments_lexer": "ipython3",
   "version": "3.9.13"
  }
 },
 "nbformat": 4,
 "nbformat_minor": 2
}
