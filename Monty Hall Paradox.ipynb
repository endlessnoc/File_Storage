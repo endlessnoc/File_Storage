{
 "cells": [
  {
   "cell_type": "markdown",
   "id": "00bf08e2",
   "metadata": {},
   "source": [
    "# Monty Hall Paradox Simulation\n",
    "### There are 3 doors, behind which are 2 goats and 1 car. You have to select a door first (let's call it door A).  \n",
    "### The goal is to find the car behind it. Monty Hall, the host of the game, inspects the other doors (B & C) and opens one with a goat behind it. (If both doors conceal goats behind, he randomly selects one.)  \n",
    "### Here's the scenario:   \n",
    "### #1. Stick with your initial choice of door A    \n",
    "### #2. Switch to the unopened door?   \n",
    "### Which choice is better?   "
   ]
  },
  {
   "cell_type": "code",
   "execution_count": 2,
   "id": "aa9e1efc",
   "metadata": {},
   "outputs": [
    {
     "name": "stdout",
     "output_type": "stream",
     "text": [
      "Not Switch Win： 3314\n",
      "Switch Win： 6686\n",
      "Win Rate of Switch: 66.86 %\n"
     ]
    }
   ],
   "source": [
    "\n",
    "import random\n",
    "\n",
    "c=0 #Switch\n",
    "NoC=0 #Not Switch\n",
    "\n",
    "for i in range(10000): # Number of Simulation\n",
    "    car = random.choice([1,2,3]) # 1 Car in 3 doors \n",
    "    player = random.choice([1,2,3]) # Player randomly select 1 door\n",
    "    #The host randomly selects a door, which is neither the door chosen by the player nor the one with a car behind.\n",
    "    door_list=[1,2,3]\n",
    "    door_list.remove(player)\n",
    "    if car in door_list:\n",
    "        door_list.remove(car)\n",
    "    host = random.choice(door_list)\n",
    "    \n",
    "    if player == car:\n",
    "        NoC = NoC+1 #TPlayer's initial choice is right (There's a car behind), so not switching is better.\n",
    "    else:\n",
    "        c =c+1 #Player's initial choice is wrong (There's not a car behind), so switching is better.\n",
    "    \n",
    "print(\"Not Switch Win：\",NoC)\n",
    "print(\"Switch Win：\",c)\n",
    "print(\"Win Rate of Switch:\", str(100*(c/(c+NoC))),\"%\")\n",
    "\n",
    "\n",
    "#Surprisingly, the % are not evenly split at 50-50. If you choose to switch doors, you'll win 2/3 of the time!"
   ]
  },
  {
   "cell_type": "code",
   "execution_count": null,
   "id": "7d7d24f8",
   "metadata": {},
   "outputs": [],
   "source": []
  }
 ],
 "metadata": {
  "kernelspec": {
   "display_name": "Python 3 (ipykernel)",
   "language": "python",
   "name": "python3"
  },
  "language_info": {
   "codemirror_mode": {
    "name": "ipython",
    "version": 3
   },
   "file_extension": ".py",
   "mimetype": "text/x-python",
   "name": "python",
   "nbconvert_exporter": "python",
   "pygments_lexer": "ipython3",
   "version": "3.9.13"
  }
 },
 "nbformat": 4,
 "nbformat_minor": 5
}
