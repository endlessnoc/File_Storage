{
 "cells": [
  {
   "cell_type": "markdown",
   "metadata": {},
   "source": [
    "# eCommerce Events History in Cosmetics Shop Data Processing\n",
    "######  ※因為原始資料檔案太大，因此將Python程式分為資料預處理和資料分析兩部分，本檔案為資料預處理的一部分。  \n",
    "\n",
    "此專案將針對化妝品電商數據進行分析，並且針對顧客進行分群研究，找出其中的商業價值。  \n",
    "此數據集是一家中型化妝品電商在2019年10月至2020年2月間的各種消費者行為數據。一筆數據代表一個事件，每個事件都類似於產品和用戶之間的多對多關係。\n",
    "\n",
    "1. 資料預處理\n",
    "2. 探索性資料分析\n",
    "3. 重要經營指標分析\n",
    "4. RSFM集群分析\n",
    "5. 集群結果分析\n",
    "6. Tableau視覺化報表\n",
    "7. 測試集集群對照\n",
    "8. 結論\n",
    "\n",
    "Dataset: https://www.kaggle.com/datasets/mkechinov/ecommerce-events-history-in-cosmetics-shop , from  REES46 Marketing Platform."
   ]
  },
  {
   "cell_type": "markdown",
   "metadata": {},
   "source": [
    "## Import Libraries"
   ]
  },
  {
   "cell_type": "code",
   "execution_count": 1,
   "metadata": {},
   "outputs": [],
   "source": [
    "import numpy as np\n",
    "import pandas as pd\n",
    "import os \n",
    "pd.set_option('display.float_format', lambda x: '%.3f' % x) #禁用科學記號不然數字會很難看"
   ]
  },
  {
   "cell_type": "markdown",
   "metadata": {},
   "source": [
    "## Loading Data"
   ]
  },
  {
   "cell_type": "code",
   "execution_count": 2,
   "metadata": {},
   "outputs": [],
   "source": [
    "data1 = pd.read_csv('./ecommerce/2019-Oct.csv')"
   ]
  },
  {
   "cell_type": "code",
   "execution_count": 3,
   "metadata": {},
   "outputs": [
    {
     "data": {
      "text/html": [
       "<div>\n",
       "<style scoped>\n",
       "    .dataframe tbody tr th:only-of-type {\n",
       "        vertical-align: middle;\n",
       "    }\n",
       "\n",
       "    .dataframe tbody tr th {\n",
       "        vertical-align: top;\n",
       "    }\n",
       "\n",
       "    .dataframe thead th {\n",
       "        text-align: right;\n",
       "    }\n",
       "</style>\n",
       "<table border=\"1\" class=\"dataframe\">\n",
       "  <thead>\n",
       "    <tr style=\"text-align: right;\">\n",
       "      <th></th>\n",
       "      <th>event_time</th>\n",
       "      <th>event_type</th>\n",
       "      <th>product_id</th>\n",
       "      <th>category_id</th>\n",
       "      <th>category_code</th>\n",
       "      <th>brand</th>\n",
       "      <th>price</th>\n",
       "      <th>user_id</th>\n",
       "      <th>user_session</th>\n",
       "    </tr>\n",
       "  </thead>\n",
       "  <tbody>\n",
       "    <tr>\n",
       "      <th>0</th>\n",
       "      <td>2019-10-01 00:00:00 UTC</td>\n",
       "      <td>cart</td>\n",
       "      <td>5773203</td>\n",
       "      <td>1487580005134238553</td>\n",
       "      <td>NaN</td>\n",
       "      <td>runail</td>\n",
       "      <td>2.620</td>\n",
       "      <td>463240011</td>\n",
       "      <td>26dd6e6e-4dac-4778-8d2c-92e149dab885</td>\n",
       "    </tr>\n",
       "    <tr>\n",
       "      <th>1</th>\n",
       "      <td>2019-10-01 00:00:03 UTC</td>\n",
       "      <td>cart</td>\n",
       "      <td>5773353</td>\n",
       "      <td>1487580005134238553</td>\n",
       "      <td>NaN</td>\n",
       "      <td>runail</td>\n",
       "      <td>2.620</td>\n",
       "      <td>463240011</td>\n",
       "      <td>26dd6e6e-4dac-4778-8d2c-92e149dab885</td>\n",
       "    </tr>\n",
       "    <tr>\n",
       "      <th>2</th>\n",
       "      <td>2019-10-01 00:00:07 UTC</td>\n",
       "      <td>cart</td>\n",
       "      <td>5881589</td>\n",
       "      <td>2151191071051219817</td>\n",
       "      <td>NaN</td>\n",
       "      <td>lovely</td>\n",
       "      <td>13.480</td>\n",
       "      <td>429681830</td>\n",
       "      <td>49e8d843-adf3-428b-a2c3-fe8bc6a307c9</td>\n",
       "    </tr>\n",
       "    <tr>\n",
       "      <th>3</th>\n",
       "      <td>2019-10-01 00:00:07 UTC</td>\n",
       "      <td>cart</td>\n",
       "      <td>5723490</td>\n",
       "      <td>1487580005134238553</td>\n",
       "      <td>NaN</td>\n",
       "      <td>runail</td>\n",
       "      <td>2.620</td>\n",
       "      <td>463240011</td>\n",
       "      <td>26dd6e6e-4dac-4778-8d2c-92e149dab885</td>\n",
       "    </tr>\n",
       "    <tr>\n",
       "      <th>4</th>\n",
       "      <td>2019-10-01 00:00:15 UTC</td>\n",
       "      <td>cart</td>\n",
       "      <td>5881449</td>\n",
       "      <td>1487580013522845895</td>\n",
       "      <td>NaN</td>\n",
       "      <td>lovely</td>\n",
       "      <td>0.560</td>\n",
       "      <td>429681830</td>\n",
       "      <td>49e8d843-adf3-428b-a2c3-fe8bc6a307c9</td>\n",
       "    </tr>\n",
       "  </tbody>\n",
       "</table>\n",
       "</div>"
      ],
      "text/plain": [
       "                event_time event_type  product_id          category_id  \\\n",
       "0  2019-10-01 00:00:00 UTC       cart     5773203  1487580005134238553   \n",
       "1  2019-10-01 00:00:03 UTC       cart     5773353  1487580005134238553   \n",
       "2  2019-10-01 00:00:07 UTC       cart     5881589  2151191071051219817   \n",
       "3  2019-10-01 00:00:07 UTC       cart     5723490  1487580005134238553   \n",
       "4  2019-10-01 00:00:15 UTC       cart     5881449  1487580013522845895   \n",
       "\n",
       "  category_code   brand  price    user_id  \\\n",
       "0           NaN  runail  2.620  463240011   \n",
       "1           NaN  runail  2.620  463240011   \n",
       "2           NaN  lovely 13.480  429681830   \n",
       "3           NaN  runail  2.620  463240011   \n",
       "4           NaN  lovely  0.560  429681830   \n",
       "\n",
       "                           user_session  \n",
       "0  26dd6e6e-4dac-4778-8d2c-92e149dab885  \n",
       "1  26dd6e6e-4dac-4778-8d2c-92e149dab885  \n",
       "2  49e8d843-adf3-428b-a2c3-fe8bc6a307c9  \n",
       "3  26dd6e6e-4dac-4778-8d2c-92e149dab885  \n",
       "4  49e8d843-adf3-428b-a2c3-fe8bc6a307c9  "
      ]
     },
     "execution_count": 3,
     "metadata": {},
     "output_type": "execute_result"
    }
   ],
   "source": [
    "data1.head()"
   ]
  },
  {
   "cell_type": "code",
   "execution_count": 4,
   "metadata": {},
   "outputs": [],
   "source": [
    "data2 = pd.read_csv('./ecommerce/2019-Nov.csv')\n",
    "data3 = pd.read_csv('./ecommerce/2019-Dec.csv')\n",
    "data4 = pd.read_csv('./ecommerce/2020-Jan.csv')\n",
    "all_m_data= pd.DataFrame()\n",
    "all_m_data= pd.concat([data1, data2, data3, data4])\n",
    "\n",
    "all_m_data.drop('user_session', axis= 1, inplace= True)\n",
    "all_m_data.to_csv(\"alldata2.csv\", index= False)"
   ]
  },
  {
   "cell_type": "code",
   "execution_count": 5,
   "metadata": {},
   "outputs": [
    {
     "data": {
      "text/html": [
       "<div>\n",
       "<style scoped>\n",
       "    .dataframe tbody tr th:only-of-type {\n",
       "        vertical-align: middle;\n",
       "    }\n",
       "\n",
       "    .dataframe tbody tr th {\n",
       "        vertical-align: top;\n",
       "    }\n",
       "\n",
       "    .dataframe thead th {\n",
       "        text-align: right;\n",
       "    }\n",
       "</style>\n",
       "<table border=\"1\" class=\"dataframe\">\n",
       "  <thead>\n",
       "    <tr style=\"text-align: right;\">\n",
       "      <th></th>\n",
       "      <th>event_time</th>\n",
       "      <th>event_type</th>\n",
       "      <th>product_id</th>\n",
       "      <th>category_id</th>\n",
       "      <th>category_code</th>\n",
       "      <th>brand</th>\n",
       "      <th>price</th>\n",
       "      <th>user_id</th>\n",
       "    </tr>\n",
       "  </thead>\n",
       "  <tbody>\n",
       "    <tr>\n",
       "      <th>0</th>\n",
       "      <td>2019-10-01 00:00:00 UTC</td>\n",
       "      <td>cart</td>\n",
       "      <td>5773203</td>\n",
       "      <td>1487580005134238553</td>\n",
       "      <td>NaN</td>\n",
       "      <td>runail</td>\n",
       "      <td>2.620</td>\n",
       "      <td>463240011</td>\n",
       "    </tr>\n",
       "    <tr>\n",
       "      <th>1</th>\n",
       "      <td>2019-10-01 00:00:03 UTC</td>\n",
       "      <td>cart</td>\n",
       "      <td>5773353</td>\n",
       "      <td>1487580005134238553</td>\n",
       "      <td>NaN</td>\n",
       "      <td>runail</td>\n",
       "      <td>2.620</td>\n",
       "      <td>463240011</td>\n",
       "    </tr>\n",
       "    <tr>\n",
       "      <th>2</th>\n",
       "      <td>2019-10-01 00:00:07 UTC</td>\n",
       "      <td>cart</td>\n",
       "      <td>5881589</td>\n",
       "      <td>2151191071051219817</td>\n",
       "      <td>NaN</td>\n",
       "      <td>lovely</td>\n",
       "      <td>13.480</td>\n",
       "      <td>429681830</td>\n",
       "    </tr>\n",
       "    <tr>\n",
       "      <th>3</th>\n",
       "      <td>2019-10-01 00:00:07 UTC</td>\n",
       "      <td>cart</td>\n",
       "      <td>5723490</td>\n",
       "      <td>1487580005134238553</td>\n",
       "      <td>NaN</td>\n",
       "      <td>runail</td>\n",
       "      <td>2.620</td>\n",
       "      <td>463240011</td>\n",
       "    </tr>\n",
       "    <tr>\n",
       "      <th>4</th>\n",
       "      <td>2019-10-01 00:00:15 UTC</td>\n",
       "      <td>cart</td>\n",
       "      <td>5881449</td>\n",
       "      <td>1487580013522845895</td>\n",
       "      <td>NaN</td>\n",
       "      <td>lovely</td>\n",
       "      <td>0.560</td>\n",
       "      <td>429681830</td>\n",
       "    </tr>\n",
       "  </tbody>\n",
       "</table>\n",
       "</div>"
      ],
      "text/plain": [
       "                event_time event_type  product_id          category_id  \\\n",
       "0  2019-10-01 00:00:00 UTC       cart     5773203  1487580005134238553   \n",
       "1  2019-10-01 00:00:03 UTC       cart     5773353  1487580005134238553   \n",
       "2  2019-10-01 00:00:07 UTC       cart     5881589  2151191071051219817   \n",
       "3  2019-10-01 00:00:07 UTC       cart     5723490  1487580005134238553   \n",
       "4  2019-10-01 00:00:15 UTC       cart     5881449  1487580013522845895   \n",
       "\n",
       "  category_code   brand  price    user_id  \n",
       "0           NaN  runail  2.620  463240011  \n",
       "1           NaN  runail  2.620  463240011  \n",
       "2           NaN  lovely 13.480  429681830  \n",
       "3           NaN  runail  2.620  463240011  \n",
       "4           NaN  lovely  0.560  429681830  "
      ]
     },
     "execution_count": 5,
     "metadata": {},
     "output_type": "execute_result"
    }
   ],
   "source": [
    "data = pd.read_csv('alldata2.csv')\n",
    "data.head()"
   ]
  },
  {
   "cell_type": "markdown",
   "metadata": {},
   "source": [
    "## Data Cleaning"
   ]
  },
  {
   "cell_type": "code",
   "execution_count": 6,
   "metadata": {},
   "outputs": [
    {
     "name": "stdout",
     "output_type": "stream",
     "text": [
      "<class 'pandas.core.frame.DataFrame'>\n",
      "RangeIndex: 16536158 entries, 0 to 16536157\n",
      "Data columns (total 8 columns):\n",
      " #   Column         Dtype  \n",
      "---  ------         -----  \n",
      " 0   event_time     object \n",
      " 1   event_type     object \n",
      " 2   product_id     int64  \n",
      " 3   category_id    int64  \n",
      " 4   category_code  object \n",
      " 5   brand          object \n",
      " 6   price          float64\n",
      " 7   user_id        int64  \n",
      "dtypes: float64(1), int64(3), object(4)\n",
      "memory usage: 1009.3+ MB\n"
     ]
    }
   ],
   "source": [
    "data.info()"
   ]
  },
  {
   "cell_type": "code",
   "execution_count": 7,
   "metadata": {},
   "outputs": [
    {
     "data": {
      "text/plain": [
       "event_time       7059662\n",
       "event_type             4\n",
       "product_id         51428\n",
       "category_id          522\n",
       "category_code         12\n",
       "brand                262\n",
       "price               2801\n",
       "user_id          1341499\n",
       "dtype: int64"
      ]
     },
     "execution_count": 7,
     "metadata": {},
     "output_type": "execute_result"
    }
   ],
   "source": [
    "data.nunique()"
   ]
  },
  {
   "cell_type": "code",
   "execution_count": 8,
   "metadata": {},
   "outputs": [
    {
     "name": "stdout",
     "output_type": "stream",
     "text": [
      "Duplicates :  874708\n"
     ]
    }
   ],
   "source": [
    "print(\"Duplicates : \", len(data[data.duplicated()]))"
   ]
  },
  {
   "cell_type": "markdown",
   "metadata": {},
   "source": [
    "可以看見數據中有一些重複值（所有欄位皆重複），這邊將重複的觀測值刪除。"
   ]
  },
  {
   "cell_type": "code",
   "execution_count": 9,
   "metadata": {},
   "outputs": [],
   "source": [
    "data.drop_duplicates(inplace= True)"
   ]
  },
  {
   "cell_type": "markdown",
   "metadata": {},
   "source": [
    "看一下資料的分布"
   ]
  },
  {
   "cell_type": "code",
   "execution_count": 10,
   "metadata": {},
   "outputs": [
    {
     "data": {
      "text/html": [
       "<div>\n",
       "<style scoped>\n",
       "    .dataframe tbody tr th:only-of-type {\n",
       "        vertical-align: middle;\n",
       "    }\n",
       "\n",
       "    .dataframe tbody tr th {\n",
       "        vertical-align: top;\n",
       "    }\n",
       "\n",
       "    .dataframe thead th {\n",
       "        text-align: right;\n",
       "    }\n",
       "</style>\n",
       "<table border=\"1\" class=\"dataframe\">\n",
       "  <thead>\n",
       "    <tr style=\"text-align: right;\">\n",
       "      <th></th>\n",
       "      <th>product_id</th>\n",
       "      <th>category_id</th>\n",
       "      <th>price</th>\n",
       "      <th>user_id</th>\n",
       "    </tr>\n",
       "  </thead>\n",
       "  <tbody>\n",
       "    <tr>\n",
       "      <th>count</th>\n",
       "      <td>15661450.000</td>\n",
       "      <td>15661450.000</td>\n",
       "      <td>15661450.000</td>\n",
       "      <td>15661450.000</td>\n",
       "    </tr>\n",
       "    <tr>\n",
       "      <th>mean</th>\n",
       "      <td>5476818.088</td>\n",
       "      <td>1552384524157309952.000</td>\n",
       "      <td>8.729</td>\n",
       "      <td>516141171.815</td>\n",
       "    </tr>\n",
       "    <tr>\n",
       "      <th>std</th>\n",
       "      <td>1316683.895</td>\n",
       "      <td>166514771208782272.000</td>\n",
       "      <td>19.689</td>\n",
       "      <td>86182238.514</td>\n",
       "    </tr>\n",
       "    <tr>\n",
       "      <th>min</th>\n",
       "      <td>3752.000</td>\n",
       "      <td>1487580004807082752.000</td>\n",
       "      <td>-79.370</td>\n",
       "      <td>465496.000</td>\n",
       "    </tr>\n",
       "    <tr>\n",
       "      <th>25%</th>\n",
       "      <td>5724283.000</td>\n",
       "      <td>1487580005754995456.000</td>\n",
       "      <td>2.130</td>\n",
       "      <td>478511484.000</td>\n",
       "    </tr>\n",
       "    <tr>\n",
       "      <th>50%</th>\n",
       "      <td>5809912.000</td>\n",
       "      <td>1487580008263189504.000</td>\n",
       "      <td>4.110</td>\n",
       "      <td>550257646.000</td>\n",
       "    </tr>\n",
       "    <tr>\n",
       "      <th>75%</th>\n",
       "      <td>5856246.000</td>\n",
       "      <td>1487580013506068736.000</td>\n",
       "      <td>7.140</td>\n",
       "      <td>572005517.000</td>\n",
       "    </tr>\n",
       "    <tr>\n",
       "      <th>max</th>\n",
       "      <td>5924514.000</td>\n",
       "      <td>2235524499636224256.000</td>\n",
       "      <td>327.780</td>\n",
       "      <td>608822072.000</td>\n",
       "    </tr>\n",
       "  </tbody>\n",
       "</table>\n",
       "</div>"
      ],
      "text/plain": [
       "        product_id             category_id        price       user_id\n",
       "count 15661450.000            15661450.000 15661450.000  15661450.000\n",
       "mean   5476818.088 1552384524157309952.000        8.729 516141171.815\n",
       "std    1316683.895  166514771208782272.000       19.689  86182238.514\n",
       "min       3752.000 1487580004807082752.000      -79.370    465496.000\n",
       "25%    5724283.000 1487580005754995456.000        2.130 478511484.000\n",
       "50%    5809912.000 1487580008263189504.000        4.110 550257646.000\n",
       "75%    5856246.000 1487580013506068736.000        7.140 572005517.000\n",
       "max    5924514.000 2235524499636224256.000      327.780 608822072.000"
      ]
     },
     "execution_count": 10,
     "metadata": {},
     "output_type": "execute_result"
    }
   ],
   "source": [
    "data.describe()"
   ]
  },
  {
   "cell_type": "markdown",
   "metadata": {},
   "source": [
    "發現price欄竟然有一些負值，檢視看看有多少負值。"
   ]
  },
  {
   "cell_type": "code",
   "execution_count": 11,
   "metadata": {},
   "outputs": [
    {
     "data": {
      "text/plain": [
       "90"
      ]
     },
     "execution_count": 11,
     "metadata": {},
     "output_type": "execute_result"
    }
   ],
   "source": [
    "len(data[data['price']<0])"
   ]
  },
  {
   "cell_type": "markdown",
   "metadata": {},
   "source": [
    "相對於總共2000多萬筆數據而言並不多，因此我們選擇過濾這些不合理的值。"
   ]
  },
  {
   "cell_type": "code",
   "execution_count": 12,
   "metadata": {},
   "outputs": [],
   "source": [
    "data = data[data['price']>= 0]"
   ]
  },
  {
   "cell_type": "markdown",
   "metadata": {},
   "source": [
    "檢查缺失值"
   ]
  },
  {
   "cell_type": "code",
   "execution_count": 13,
   "metadata": {},
   "outputs": [
    {
     "data": {
      "text/plain": [
       "event_time              0\n",
       "event_type              0\n",
       "product_id              0\n",
       "category_id             0\n",
       "category_code    15393312\n",
       "brand             6555949\n",
       "price                   0\n",
       "user_id                 0\n",
       "dtype: int64"
      ]
     },
     "execution_count": 13,
     "metadata": {},
     "output_type": "execute_result"
    }
   ],
   "source": [
    "na = data.isna().sum()\n",
    "na"
   ]
  },
  {
   "cell_type": "markdown",
   "metadata": {},
   "source": [
    "可以看見category_code, brand, user session中都有不少NaN的值，來看一下這三欄中有多少比例的數據是空值。"
   ]
  },
  {
   "cell_type": "code",
   "execution_count": 14,
   "metadata": {},
   "outputs": [
    {
     "data": {
      "text/plain": [
       "event_time       0.000\n",
       "event_type       0.000\n",
       "product_id       0.000\n",
       "category_id      0.000\n",
       "category_code   98.290\n",
       "brand           41.860\n",
       "price            0.000\n",
       "user_id          0.000\n",
       "dtype: float64"
      ]
     },
     "execution_count": 14,
     "metadata": {},
     "output_type": "execute_result"
    }
   ],
   "source": [
    "round(na /data.shape[0], 4)*100"
   ]
  },
  {
   "cell_type": "markdown",
   "metadata": {},
   "source": [
    "category_code中NaN的比例高達98%，加上有意義相近的category_id可以作分析品類使用，因此這邊選擇直接棄用此欄位"
   ]
  },
  {
   "cell_type": "code",
   "execution_count": 15,
   "metadata": {},
   "outputs": [],
   "source": [
    "data.drop('category_code', axis= 1, inplace= True)"
   ]
  },
  {
   "cell_type": "markdown",
   "metadata": {},
   "source": [
    "brand中有約42%是NaN，先將他們替換成Unknown。  \n"
   ]
  },
  {
   "cell_type": "code",
   "execution_count": 16,
   "metadata": {},
   "outputs": [],
   "source": [
    "data['brand'] = data['brand'].fillna('Unknown')"
   ]
  },
  {
   "cell_type": "markdown",
   "metadata": {},
   "source": [
    "## 時間資料\n",
    "新增時間資料與修改資料結構。"
   ]
  },
  {
   "cell_type": "code",
   "execution_count": 17,
   "metadata": {},
   "outputs": [
    {
     "data": {
      "text/plain": [
       "0   2019-10-01 00:00:00\n",
       "1   2019-10-01 00:00:03\n",
       "2   2019-10-01 00:00:07\n",
       "3   2019-10-01 00:00:07\n",
       "4   2019-10-01 00:00:15\n",
       "Name: event_time, dtype: datetime64[ns]"
      ]
     },
     "execution_count": 17,
     "metadata": {},
     "output_type": "execute_result"
    }
   ],
   "source": [
    "data['event_time'] = pd.to_datetime(data['event_time'], format= '%Y-%m-%d %H:%M:%S UTC')\n",
    "data = data.sort_values(by= 'event_time') \n",
    "data['event_time'].head()"
   ]
  },
  {
   "cell_type": "code",
   "execution_count": 18,
   "metadata": {},
   "outputs": [],
   "source": [
    "data['date'] = data['event_time'].dt.date\n",
    "data['month'] = data['event_time'].dt.strftime('%b %Y') #月份顯示為 月-年 E.g. Feb 2020\n",
    "data['day'] = data['event_time'].dt.day\n",
    "data['weekday'] = data['event_time'].dt.day_name()  # 返回星期幾\n",
    "data['hr'] = data['event_time'].dt.hour"
   ]
  },
  {
   "cell_type": "code",
   "execution_count": 19,
   "metadata": {},
   "outputs": [
    {
     "name": "stdout",
     "output_type": "stream",
     "text": [
      "<class 'pandas.core.frame.DataFrame'>\n",
      "Int64Index: 15661360 entries, 0 to 16536157\n",
      "Data columns (total 12 columns):\n",
      " #   Column       Dtype         \n",
      "---  ------       -----         \n",
      " 0   event_time   datetime64[ns]\n",
      " 1   event_type   object        \n",
      " 2   product_id   int64         \n",
      " 3   category_id  int64         \n",
      " 4   brand        object        \n",
      " 5   price        float64       \n",
      " 6   user_id      int64         \n",
      " 7   date         object        \n",
      " 8   month        object        \n",
      " 9   day          int64         \n",
      " 10  weekday      object        \n",
      " 11  hr           int64         \n",
      "dtypes: datetime64[ns](1), float64(1), int64(5), object(5)\n",
      "memory usage: 1.5+ GB\n"
     ]
    }
   ],
   "source": [
    "data.info()"
   ]
  },
  {
   "cell_type": "code",
   "execution_count": 20,
   "metadata": {},
   "outputs": [],
   "source": [
    "data.to_csv(\"newdata2.csv\", index= False)"
   ]
  },
  {
   "cell_type": "markdown",
   "metadata": {},
   "source": []
  }
 ],
 "metadata": {
  "kernelspec": {
   "display_name": "Python 3 (ipykernel)",
   "language": "python",
   "name": "python3"
  },
  "language_info": {
   "codemirror_mode": {
    "name": "ipython",
    "version": 3
   },
   "file_extension": ".py",
   "mimetype": "text/x-python",
   "name": "python",
   "nbconvert_exporter": "python",
   "pygments_lexer": "ipython3",
   "version": "3.9.13"
  }
 },
 "nbformat": 4,
 "nbformat_minor": 2
}
