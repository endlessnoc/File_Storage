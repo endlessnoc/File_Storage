{
 "cells": [
  {
   "cell_type": "markdown",
   "metadata": {},
   "source": [
    "# eCommerce Events History in Cosmetics Shop Data Processing\n",
    "######  ※因為原始資料檔案太大，因此將Python程式分為資料預處理和資料分析兩部分，本檔案為資料預處理的一部分。  \n",
    "######  ※此為使用五個月數據分析的測試集，將會使用全部五個月的數據來進行集群分析，供比對顧客集群結果使用。  \n",
    "此專案將針對化妝品電商數據進行分析，並且針對顧客進行分群研究，找出其中的商業價值。  \n",
    "此數據集是一家中型化妝品電商在2019年10月至2020年2月間的各種消費者行為數據。一筆數據代表一個事件，每個事件都類似於產品和用戶之間的多對多關係。\n",
    "\n",
    "1. 資料預處理\n",
    "2. 探索性資料分析\n",
    "3. 重要經營指標分析\n",
    "4. RSFM集群分析\n",
    "5. 集群結果分析\n",
    "6. Tableau視覺化報表\n",
    "7. 測試集集群對照\n",
    "8. 結論\n",
    "\n",
    "Dataset: https://www.kaggle.com/datasets/mkechinov/ecommerce-events-history-in-cosmetics-shop , from  REES46 Marketing Platform."
   ]
  },
  {
   "cell_type": "markdown",
   "metadata": {},
   "source": [
    "## Import Libraries"
   ]
  },
  {
   "cell_type": "code",
   "execution_count": 1,
   "metadata": {},
   "outputs": [],
   "source": [
    "import numpy as np\n",
    "import pandas as pd\n",
    "import os \n",
    "pd.set_option('display.float_format', lambda x: '%.3f' % x) #禁用科學記號不然數字會很難看"
   ]
  },
  {
   "cell_type": "markdown",
   "metadata": {},
   "source": [
    "## Loading Data"
   ]
  },
  {
   "cell_type": "code",
   "execution_count": 2,
   "metadata": {},
   "outputs": [],
   "source": [
    "data1 = pd.read_csv('./ecommerce/2019-Oct.csv')"
   ]
  },
  {
   "cell_type": "code",
   "execution_count": 3,
   "metadata": {},
   "outputs": [
    {
     "data": {
      "text/html": [
       "<div>\n",
       "<style scoped>\n",
       "    .dataframe tbody tr th:only-of-type {\n",
       "        vertical-align: middle;\n",
       "    }\n",
       "\n",
       "    .dataframe tbody tr th {\n",
       "        vertical-align: top;\n",
       "    }\n",
       "\n",
       "    .dataframe thead th {\n",
       "        text-align: right;\n",
       "    }\n",
       "</style>\n",
       "<table border=\"1\" class=\"dataframe\">\n",
       "  <thead>\n",
       "    <tr style=\"text-align: right;\">\n",
       "      <th></th>\n",
       "      <th>event_time</th>\n",
       "      <th>event_type</th>\n",
       "      <th>product_id</th>\n",
       "      <th>category_id</th>\n",
       "      <th>category_code</th>\n",
       "      <th>brand</th>\n",
       "      <th>price</th>\n",
       "      <th>user_id</th>\n",
       "      <th>user_session</th>\n",
       "    </tr>\n",
       "  </thead>\n",
       "  <tbody>\n",
       "    <tr>\n",
       "      <th>0</th>\n",
       "      <td>2019-10-01 00:00:00 UTC</td>\n",
       "      <td>cart</td>\n",
       "      <td>5773203</td>\n",
       "      <td>1487580005134238553</td>\n",
       "      <td>NaN</td>\n",
       "      <td>runail</td>\n",
       "      <td>2.620</td>\n",
       "      <td>463240011</td>\n",
       "      <td>26dd6e6e-4dac-4778-8d2c-92e149dab885</td>\n",
       "    </tr>\n",
       "    <tr>\n",
       "      <th>1</th>\n",
       "      <td>2019-10-01 00:00:03 UTC</td>\n",
       "      <td>cart</td>\n",
       "      <td>5773353</td>\n",
       "      <td>1487580005134238553</td>\n",
       "      <td>NaN</td>\n",
       "      <td>runail</td>\n",
       "      <td>2.620</td>\n",
       "      <td>463240011</td>\n",
       "      <td>26dd6e6e-4dac-4778-8d2c-92e149dab885</td>\n",
       "    </tr>\n",
       "    <tr>\n",
       "      <th>2</th>\n",
       "      <td>2019-10-01 00:00:07 UTC</td>\n",
       "      <td>cart</td>\n",
       "      <td>5881589</td>\n",
       "      <td>2151191071051219817</td>\n",
       "      <td>NaN</td>\n",
       "      <td>lovely</td>\n",
       "      <td>13.480</td>\n",
       "      <td>429681830</td>\n",
       "      <td>49e8d843-adf3-428b-a2c3-fe8bc6a307c9</td>\n",
       "    </tr>\n",
       "    <tr>\n",
       "      <th>3</th>\n",
       "      <td>2019-10-01 00:00:07 UTC</td>\n",
       "      <td>cart</td>\n",
       "      <td>5723490</td>\n",
       "      <td>1487580005134238553</td>\n",
       "      <td>NaN</td>\n",
       "      <td>runail</td>\n",
       "      <td>2.620</td>\n",
       "      <td>463240011</td>\n",
       "      <td>26dd6e6e-4dac-4778-8d2c-92e149dab885</td>\n",
       "    </tr>\n",
       "    <tr>\n",
       "      <th>4</th>\n",
       "      <td>2019-10-01 00:00:15 UTC</td>\n",
       "      <td>cart</td>\n",
       "      <td>5881449</td>\n",
       "      <td>1487580013522845895</td>\n",
       "      <td>NaN</td>\n",
       "      <td>lovely</td>\n",
       "      <td>0.560</td>\n",
       "      <td>429681830</td>\n",
       "      <td>49e8d843-adf3-428b-a2c3-fe8bc6a307c9</td>\n",
       "    </tr>\n",
       "  </tbody>\n",
       "</table>\n",
       "</div>"
      ],
      "text/plain": [
       "                event_time event_type  product_id          category_id  \\\n",
       "0  2019-10-01 00:00:00 UTC       cart     5773203  1487580005134238553   \n",
       "1  2019-10-01 00:00:03 UTC       cart     5773353  1487580005134238553   \n",
       "2  2019-10-01 00:00:07 UTC       cart     5881589  2151191071051219817   \n",
       "3  2019-10-01 00:00:07 UTC       cart     5723490  1487580005134238553   \n",
       "4  2019-10-01 00:00:15 UTC       cart     5881449  1487580013522845895   \n",
       "\n",
       "  category_code   brand  price    user_id  \\\n",
       "0           NaN  runail  2.620  463240011   \n",
       "1           NaN  runail  2.620  463240011   \n",
       "2           NaN  lovely 13.480  429681830   \n",
       "3           NaN  runail  2.620  463240011   \n",
       "4           NaN  lovely  0.560  429681830   \n",
       "\n",
       "                           user_session  \n",
       "0  26dd6e6e-4dac-4778-8d2c-92e149dab885  \n",
       "1  26dd6e6e-4dac-4778-8d2c-92e149dab885  \n",
       "2  49e8d843-adf3-428b-a2c3-fe8bc6a307c9  \n",
       "3  26dd6e6e-4dac-4778-8d2c-92e149dab885  \n",
       "4  49e8d843-adf3-428b-a2c3-fe8bc6a307c9  "
      ]
     },
     "execution_count": 3,
     "metadata": {},
     "output_type": "execute_result"
    }
   ],
   "source": [
    "data1.head()"
   ]
  },
  {
   "cell_type": "code",
   "execution_count": 4,
   "metadata": {},
   "outputs": [
    {
     "name": "stdout",
     "output_type": "stream",
     "text": [
      "                      event_time        event_type  product_id  \\\n",
      "0        2019-12-01 00:00:00 UTC  remove_from_cart     5712790   \n",
      "1        2019-12-01 00:00:00 UTC              view     5764655   \n",
      "2        2019-12-01 00:00:02 UTC              cart        4958   \n",
      "3        2019-12-01 00:00:05 UTC              view     5848413   \n",
      "4        2019-12-01 00:00:07 UTC              view     5824148   \n",
      "...                          ...               ...         ...   \n",
      "3533281  2019-12-31 23:59:39 UTC              view     5683350   \n",
      "3533282  2019-12-31 23:59:46 UTC              view     5888097   \n",
      "3533283  2019-12-31 23:59:51 UTC              view       59975   \n",
      "3533284  2019-12-31 23:59:52 UTC              view     5775982   \n",
      "3533285  2019-12-31 23:59:57 UTC              view     5635090   \n",
      "\n",
      "                 category_id category_code      brand   price    user_id  \\\n",
      "0        1487580005268456287           NaN      f.o.x   6.270  576802932   \n",
      "1        1487580005411062629           NaN        cnd  29.050  412120092   \n",
      "2        1487580009471148064           NaN     runail   1.190  494077766   \n",
      "3        1487580007675986893           NaN  freedecor   0.790  348405118   \n",
      "4        1487580005511725929           NaN        NaN   5.560  576005683   \n",
      "...                      ...           ...        ...     ...        ...   \n",
      "3533281  1487580005671109489           NaN     masura   2.840  536812729   \n",
      "3533282  1487580013388628160           NaN       shik 179.050  503658154   \n",
      "3533283  1487580012096782476           NaN        NaN   7.140  595414541   \n",
      "3533284  1783999063314661546           NaN        NaN  11.900  397780878   \n",
      "3533285  1487580005754995573           NaN        NaN   4.440  420652863   \n",
      "\n",
      "                                 user_session  \n",
      "0        51d85cb0-897f-48d2-918b-ad63965c12dc  \n",
      "1        8adff31e-2051-4894-9758-224bfa8aec18  \n",
      "2        c99a50e8-2fac-4c4d-89ec-41c05f114554  \n",
      "3        722ffea5-73c0-4924-8e8f-371ff8031af4  \n",
      "4        28172809-7e4a-45ce-bab0-5efa90117cd5  \n",
      "...                                       ...  \n",
      "3533281  e4a2d47c-a956-4c46-8176-745f52ea664b  \n",
      "3533282  2dde9867-9e71-4a64-880d-aa68b66aae6d  \n",
      "3533283  4c6d80bb-5dd3-4fbb-b592-187b51db2753  \n",
      "3533284  7e8a2b85-153a-44eb-a71f-b748fde14fcc  \n",
      "3533285  546f6af3-a517-4752-a98b-80c4c5860711  \n",
      "\n",
      "[3533286 rows x 9 columns]'s shape: (3533286, 9)\n",
      "                      event_time        event_type  product_id  \\\n",
      "0        2019-11-01 00:00:02 UTC              view     5802432   \n",
      "1        2019-11-01 00:00:09 UTC              cart     5844397   \n",
      "2        2019-11-01 00:00:10 UTC              view     5837166   \n",
      "3        2019-11-01 00:00:11 UTC              cart     5876812   \n",
      "4        2019-11-01 00:00:24 UTC  remove_from_cart     5826182   \n",
      "...                          ...               ...         ...   \n",
      "4635832  2019-11-30 23:59:46 UTC              view     5830317   \n",
      "4635833  2019-11-30 23:59:47 UTC              view     5733064   \n",
      "4635834  2019-11-30 23:59:47 UTC              view     5867785   \n",
      "4635835  2019-11-30 23:59:57 UTC              view     5779406   \n",
      "4635836  2019-11-30 23:59:58 UTC              view     5880201   \n",
      "\n",
      "                 category_id category_code     brand  price    user_id  \\\n",
      "0        1487580009286598681           NaN       NaN  0.320  562076640   \n",
      "1        1487580006317032337           NaN       NaN  2.380  553329724   \n",
      "2        1783999064103190764           NaN       pnb 22.220  556138645   \n",
      "3        1487580010100293687           NaN  jessnail  3.160  564506666   \n",
      "4        1487580007483048900           NaN       NaN  3.330  553329724   \n",
      "...                      ...           ...       ...    ...        ...   \n",
      "4635832  1487580009496313889           NaN       NaN  4.760  457678989   \n",
      "4635833  1487580004832248652           NaN   beautix  9.370  422196217   \n",
      "4635834  1487580007835370453           NaN      kims 31.100  572579084   \n",
      "4635835  2151191071051219817           NaN       NaN  2.860  540006764   \n",
      "4635836  2029731308699124089           NaN    rasyan  3.760  579969854   \n",
      "\n",
      "                                 user_session  \n",
      "0        09fafd6c-6c99-46b1-834f-33527f4de241  \n",
      "1        2067216c-31b5-455d-a1cc-af0575a34ffb  \n",
      "2        57ed222e-a54a-4907-9944-5a875c2d7f4f  \n",
      "3        186c1951-8052-4b37-adce-dd9644b1d5f7  \n",
      "4        2067216c-31b5-455d-a1cc-af0575a34ffb  \n",
      "...                                       ...  \n",
      "4635832  ee50b160-a4db-4722-8751-6812c5b38295  \n",
      "4635833  ab5e6dd5-8700-4ecc-a300-9f1eca5d1a95  \n",
      "4635834  d42865b7-7e04-4038-9be0-a59165625f06  \n",
      "4635835  d4b5aa49-d731-40f1-92f1-277416d6e063  \n",
      "4635836  e9fa2c3e-8c9e-448c-880a-21ca57c18b3b  \n",
      "\n",
      "[4635837 rows x 9 columns]'s shape: (4635837, 9)\n",
      "                      event_time        event_type  product_id  \\\n",
      "0        2019-10-01 00:00:00 UTC              cart     5773203   \n",
      "1        2019-10-01 00:00:03 UTC              cart     5773353   \n",
      "2        2019-10-01 00:00:07 UTC              cart     5881589   \n",
      "3        2019-10-01 00:00:07 UTC              cart     5723490   \n",
      "4        2019-10-01 00:00:15 UTC              cart     5881449   \n",
      "...                          ...               ...         ...   \n",
      "4102278  2019-10-31 23:59:25 UTC  remove_from_cart     5848062   \n",
      "4102279  2019-10-31 23:59:30 UTC              view     5885631   \n",
      "4102280  2019-10-31 23:59:34 UTC              view     5784898   \n",
      "4102281  2019-10-31 23:59:36 UTC              view     5870838   \n",
      "4102282  2019-10-31 23:59:54 UTC              view       59996   \n",
      "\n",
      "                 category_id category_code   brand  price    user_id  \\\n",
      "0        1487580005134238553           NaN  runail  2.620  463240011   \n",
      "1        1487580005134238553           NaN  runail  2.620  463240011   \n",
      "2        2151191071051219817           NaN  lovely 13.480  429681830   \n",
      "3        1487580005134238553           NaN  runail  2.620  463240011   \n",
      "4        1487580013522845895           NaN  lovely  0.560  429681830   \n",
      "...                      ...           ...     ...    ...        ...   \n",
      "4102278  1526733091857498510           NaN     NaN  9.210  429913900   \n",
      "4102279  1783999064103190764           NaN     NaN 15.480  556138645   \n",
      "4102280  1487580009143992338           NaN     NaN  1.780  564441099   \n",
      "4102281  1487580007675986893           NaN    milv  0.790  429913900   \n",
      "4102282  1487580012927254698           NaN     NaN  4.130  566280798   \n",
      "\n",
      "                                 user_session  \n",
      "0        26dd6e6e-4dac-4778-8d2c-92e149dab885  \n",
      "1        26dd6e6e-4dac-4778-8d2c-92e149dab885  \n",
      "2        49e8d843-adf3-428b-a2c3-fe8bc6a307c9  \n",
      "3        26dd6e6e-4dac-4778-8d2c-92e149dab885  \n",
      "4        49e8d843-adf3-428b-a2c3-fe8bc6a307c9  \n",
      "...                                       ...  \n",
      "4102278  2f0bff3c-252f-4fe6-afcd-5d8a6a92839a  \n",
      "4102279  57ed222e-a54a-4907-9944-5a875c2d7f4f  \n",
      "4102280  8cbf1746-2d46-4169-afb1-b5fa38ee1ba4  \n",
      "4102281  2f0bff3c-252f-4fe6-afcd-5d8a6a92839a  \n",
      "4102282  4eaf7c71-e8bf-4ea6-b719-eca144466eb3  \n",
      "\n",
      "[4102283 rows x 9 columns]'s shape: (4102283, 9)\n",
      "                      event_time event_type  product_id          category_id  \\\n",
      "0        2020-02-01 00:00:01 UTC       cart     5844305  1487580006317032337   \n",
      "1        2020-02-01 00:00:03 UTC       view     5769925  1487580013841613016   \n",
      "2        2020-02-01 00:00:08 UTC       view     5817765  1487580008246412266   \n",
      "3        2020-02-01 00:00:11 UTC       view     5877033  1487580010100293687   \n",
      "4        2020-02-01 00:00:12 UTC       cart     5814871  1487580008112194531   \n",
      "...                          ...        ...         ...                  ...   \n",
      "4156677  2020-02-29 23:59:32 UTC       view     5885416  1487580005092295511   \n",
      "4156678  2020-02-29 23:59:39 UTC       cart     5550686  1487580008145748965   \n",
      "4156679  2020-02-29 23:59:45 UTC       view     5850628  1602943681873052386   \n",
      "4156680  2020-02-29 23:59:54 UTC       view     5716351  1487580010872045658   \n",
      "4156681  2020-02-29 23:59:59 UTC       view     5927709  1487580013950664926   \n",
      "\n",
      "        category_code    brand  price    user_id  \\\n",
      "0                 NaN      NaN  2.140  485174092   \n",
      "1                 NaN   kapous  4.220  594621622   \n",
      "2                 NaN   zeitun 11.030  495404942   \n",
      "3                 NaN     milv  3.490  564814969   \n",
      "4                 NaN   zinger  2.540  551205603   \n",
      "...               ...      ...    ...        ...   \n",
      "4156677           NaN  grattol  6.270  622082947   \n",
      "4156678           NaN      NaN  1.110  459705611   \n",
      "4156679           NaN  grattol  5.240  622090043   \n",
      "4156680           NaN    irisk  0.790  619841242   \n",
      "4156681           NaN   de.lux  3.170  621669991   \n",
      "\n",
      "                                 user_session  \n",
      "0        4be9643a-420b-4c6b-83dd-a15e772fbf7a  \n",
      "1        a88baf11-9cd0-4362-bde4-1bfeed3f641d  \n",
      "2        3a569c8d-d848-4f09-a925-33f673d84c46  \n",
      "3        7feb39e5-bb7b-4b2b-a546-3e3b7c56326e  \n",
      "4        106a7c7f-7fa1-4463-8bec-0ea7b02191cb  \n",
      "...                                       ...  \n",
      "4156677  fb29909b-6ef5-4662-b4ee-288e73e5dc10  \n",
      "4156678  05d2add3-01f7-47ee-8364-27341673227f  \n",
      "4156679  ab7d349f-db5d-4790-8ab1-31e5c894459d  \n",
      "4156680  18af673b-7fb9-4202-a66d-5c855bc0fd2d  \n",
      "4156681  daa3c677-5360-4327-847e-d29658716b99  \n",
      "\n",
      "[4156682 rows x 9 columns]'s shape: (4156682, 9)\n",
      "                      event_time        event_type  product_id  \\\n",
      "0        2020-01-01 00:00:00 UTC              view     5809910   \n",
      "1        2020-01-01 00:00:09 UTC              view     5812943   \n",
      "2        2020-01-01 00:00:19 UTC              view     5798924   \n",
      "3        2020-01-01 00:00:24 UTC              view     5793052   \n",
      "4        2020-01-01 00:00:25 UTC              view     5899926   \n",
      "...                          ...               ...         ...   \n",
      "4264747  2020-01-31 23:59:52 UTC  remove_from_cart     5886774   \n",
      "4264748  2020-01-31 23:59:52 UTC  remove_from_cart     5886774   \n",
      "4264749  2020-01-31 23:59:53 UTC              view     5875432   \n",
      "4264750  2020-01-31 23:59:57 UTC  remove_from_cart     5820745   \n",
      "4264751  2020-01-31 23:59:58 UTC  remove_from_cart     5820745   \n",
      "\n",
      "                 category_id category_code     brand  price    user_id  \\\n",
      "0        1602943681873052386           NaN   grattol  5.240  595414620   \n",
      "1        1487580012121948301           NaN  kinetics  3.970  595414640   \n",
      "2        1783999068867920626           NaN    zinger  3.970  595412617   \n",
      "3        1487580005754995573           NaN       NaN  4.920  420652863   \n",
      "4        2115334439910245200           NaN       NaN  3.920  484071203   \n",
      "...                      ...           ...       ...    ...        ...   \n",
      "4264747  1487580006317032337           NaN       NaN  1.590  607092857   \n",
      "4264748  1487580006317032337           NaN       NaN  1.590  607092857   \n",
      "4264749  2084144451428549153           NaN       NaN  2.050  423651741   \n",
      "4264750  1487580006317032337           NaN       NaN  2.220  607092857   \n",
      "4264751  1487580006317032337           NaN       NaN  2.220  607092857   \n",
      "\n",
      "                                 user_session  \n",
      "0        4adb70bb-edbd-4981-b60f-a05bfd32683a  \n",
      "1        c8c5205d-be43-4f1d-aa56-4828b8151c8a  \n",
      "2        46a5010f-bd69-4fbe-a00d-bb17aa7b46f3  \n",
      "3        546f6af3-a517-4752-a98b-80c4c5860711  \n",
      "4        cff70ddf-529e-4b0c-a4fc-f43a749c0acb  \n",
      "...                                       ...  \n",
      "4264747  a4ccd1c4-a9d2-48d0-9816-082ec5bb5e47  \n",
      "4264748  a4ccd1c4-a9d2-48d0-9816-082ec5bb5e47  \n",
      "4264749  fb42a963-abef-4c4f-b1ba-f5812dd54e80  \n",
      "4264750  a4ccd1c4-a9d2-48d0-9816-082ec5bb5e47  \n",
      "4264751  a4ccd1c4-a9d2-48d0-9816-082ec5bb5e47  \n",
      "\n",
      "[4264752 rows x 9 columns]'s shape: (4264752, 9)\n"
     ]
    }
   ],
   "source": [
    "files= [file for file in os.listdir('./ecommerce')]\n",
    "\n",
    "all_m_data= pd.DataFrame()\n",
    "for file in files:\n",
    "    df = pd.read_csv('./ecommerce/' + file)\n",
    "    print(f\"{df}'s shape: {df.shape}\")\n",
    "    all_m_data = pd.concat([all_m_data,df])\n",
    "all_m_data.drop('user_session', axis= 1, inplace= True)\n",
    "all_m_data.to_csv(\"alldata.csv\", index= False)"
   ]
  },
  {
   "cell_type": "code",
   "execution_count": 5,
   "metadata": {},
   "outputs": [
    {
     "data": {
      "text/html": [
       "<div>\n",
       "<style scoped>\n",
       "    .dataframe tbody tr th:only-of-type {\n",
       "        vertical-align: middle;\n",
       "    }\n",
       "\n",
       "    .dataframe tbody tr th {\n",
       "        vertical-align: top;\n",
       "    }\n",
       "\n",
       "    .dataframe thead th {\n",
       "        text-align: right;\n",
       "    }\n",
       "</style>\n",
       "<table border=\"1\" class=\"dataframe\">\n",
       "  <thead>\n",
       "    <tr style=\"text-align: right;\">\n",
       "      <th></th>\n",
       "      <th>event_time</th>\n",
       "      <th>event_type</th>\n",
       "      <th>product_id</th>\n",
       "      <th>category_id</th>\n",
       "      <th>category_code</th>\n",
       "      <th>brand</th>\n",
       "      <th>price</th>\n",
       "      <th>user_id</th>\n",
       "    </tr>\n",
       "  </thead>\n",
       "  <tbody>\n",
       "    <tr>\n",
       "      <th>0</th>\n",
       "      <td>2019-12-01 00:00:00 UTC</td>\n",
       "      <td>remove_from_cart</td>\n",
       "      <td>5712790</td>\n",
       "      <td>1487580005268456287</td>\n",
       "      <td>NaN</td>\n",
       "      <td>f.o.x</td>\n",
       "      <td>6.270</td>\n",
       "      <td>576802932</td>\n",
       "    </tr>\n",
       "    <tr>\n",
       "      <th>1</th>\n",
       "      <td>2019-12-01 00:00:00 UTC</td>\n",
       "      <td>view</td>\n",
       "      <td>5764655</td>\n",
       "      <td>1487580005411062629</td>\n",
       "      <td>NaN</td>\n",
       "      <td>cnd</td>\n",
       "      <td>29.050</td>\n",
       "      <td>412120092</td>\n",
       "    </tr>\n",
       "    <tr>\n",
       "      <th>2</th>\n",
       "      <td>2019-12-01 00:00:02 UTC</td>\n",
       "      <td>cart</td>\n",
       "      <td>4958</td>\n",
       "      <td>1487580009471148064</td>\n",
       "      <td>NaN</td>\n",
       "      <td>runail</td>\n",
       "      <td>1.190</td>\n",
       "      <td>494077766</td>\n",
       "    </tr>\n",
       "    <tr>\n",
       "      <th>3</th>\n",
       "      <td>2019-12-01 00:00:05 UTC</td>\n",
       "      <td>view</td>\n",
       "      <td>5848413</td>\n",
       "      <td>1487580007675986893</td>\n",
       "      <td>NaN</td>\n",
       "      <td>freedecor</td>\n",
       "      <td>0.790</td>\n",
       "      <td>348405118</td>\n",
       "    </tr>\n",
       "    <tr>\n",
       "      <th>4</th>\n",
       "      <td>2019-12-01 00:00:07 UTC</td>\n",
       "      <td>view</td>\n",
       "      <td>5824148</td>\n",
       "      <td>1487580005511725929</td>\n",
       "      <td>NaN</td>\n",
       "      <td>NaN</td>\n",
       "      <td>5.560</td>\n",
       "      <td>576005683</td>\n",
       "    </tr>\n",
       "  </tbody>\n",
       "</table>\n",
       "</div>"
      ],
      "text/plain": [
       "                event_time        event_type  product_id          category_id  \\\n",
       "0  2019-12-01 00:00:00 UTC  remove_from_cart     5712790  1487580005268456287   \n",
       "1  2019-12-01 00:00:00 UTC              view     5764655  1487580005411062629   \n",
       "2  2019-12-01 00:00:02 UTC              cart        4958  1487580009471148064   \n",
       "3  2019-12-01 00:00:05 UTC              view     5848413  1487580007675986893   \n",
       "4  2019-12-01 00:00:07 UTC              view     5824148  1487580005511725929   \n",
       "\n",
       "  category_code      brand  price    user_id  \n",
       "0           NaN      f.o.x  6.270  576802932  \n",
       "1           NaN        cnd 29.050  412120092  \n",
       "2           NaN     runail  1.190  494077766  \n",
       "3           NaN  freedecor  0.790  348405118  \n",
       "4           NaN        NaN  5.560  576005683  "
      ]
     },
     "execution_count": 5,
     "metadata": {},
     "output_type": "execute_result"
    }
   ],
   "source": [
    "data = pd.read_csv('alldata.csv')\n",
    "data.head()"
   ]
  },
  {
   "cell_type": "markdown",
   "metadata": {},
   "source": [
    "## Data Cleaning"
   ]
  },
  {
   "cell_type": "code",
   "execution_count": 6,
   "metadata": {},
   "outputs": [
    {
     "name": "stdout",
     "output_type": "stream",
     "text": [
      "<class 'pandas.core.frame.DataFrame'>\n",
      "RangeIndex: 20692840 entries, 0 to 20692839\n",
      "Data columns (total 8 columns):\n",
      " #   Column         Dtype  \n",
      "---  ------         -----  \n",
      " 0   event_time     object \n",
      " 1   event_type     object \n",
      " 2   product_id     int64  \n",
      " 3   category_id    int64  \n",
      " 4   category_code  object \n",
      " 5   brand          object \n",
      " 6   price          float64\n",
      " 7   user_id        int64  \n",
      "dtypes: float64(1), int64(3), object(4)\n",
      "memory usage: 1.2+ GB\n"
     ]
    }
   ],
   "source": [
    "data.info()"
   ]
  },
  {
   "cell_type": "code",
   "execution_count": 7,
   "metadata": {},
   "outputs": [
    {
     "data": {
      "text/plain": [
       "event_time       8782890\n",
       "event_type             4\n",
       "product_id         54571\n",
       "category_id          525\n",
       "category_code         12\n",
       "brand                273\n",
       "price               2860\n",
       "user_id          1639358\n",
       "dtype: int64"
      ]
     },
     "execution_count": 7,
     "metadata": {},
     "output_type": "execute_result"
    }
   ],
   "source": [
    "data.nunique()"
   ]
  },
  {
   "cell_type": "code",
   "execution_count": 8,
   "metadata": {},
   "outputs": [
    {
     "name": "stdout",
     "output_type": "stream",
     "text": [
      "Duplicates :  1120949\n"
     ]
    }
   ],
   "source": [
    "print(\"Duplicates : \", len(data[data.duplicated()]))"
   ]
  },
  {
   "cell_type": "markdown",
   "metadata": {},
   "source": [
    "可以看見數據中有100多萬筆重複值（所有欄位皆重複），這邊將重複的觀測值刪除。"
   ]
  },
  {
   "cell_type": "code",
   "execution_count": 9,
   "metadata": {},
   "outputs": [],
   "source": [
    "data.drop_duplicates(inplace= True)"
   ]
  },
  {
   "cell_type": "markdown",
   "metadata": {},
   "source": [
    "看一下資料的分布。"
   ]
  },
  {
   "cell_type": "code",
   "execution_count": 10,
   "metadata": {},
   "outputs": [
    {
     "data": {
      "text/html": [
       "<div>\n",
       "<style scoped>\n",
       "    .dataframe tbody tr th:only-of-type {\n",
       "        vertical-align: middle;\n",
       "    }\n",
       "\n",
       "    .dataframe tbody tr th {\n",
       "        vertical-align: top;\n",
       "    }\n",
       "\n",
       "    .dataframe thead th {\n",
       "        text-align: right;\n",
       "    }\n",
       "</style>\n",
       "<table border=\"1\" class=\"dataframe\">\n",
       "  <thead>\n",
       "    <tr style=\"text-align: right;\">\n",
       "      <th></th>\n",
       "      <th>product_id</th>\n",
       "      <th>category_id</th>\n",
       "      <th>price</th>\n",
       "      <th>user_id</th>\n",
       "    </tr>\n",
       "  </thead>\n",
       "  <tbody>\n",
       "    <tr>\n",
       "      <th>count</th>\n",
       "      <td>19571891.000</td>\n",
       "      <td>19571891.000</td>\n",
       "      <td>19571891.000</td>\n",
       "      <td>19571891.000</td>\n",
       "    </tr>\n",
       "    <tr>\n",
       "      <th>mean</th>\n",
       "      <td>5481753.730</td>\n",
       "      <td>1554506323053204736.000</td>\n",
       "      <td>8.736</td>\n",
       "      <td>522120816.949</td>\n",
       "    </tr>\n",
       "    <tr>\n",
       "      <th>std</th>\n",
       "      <td>1310988.312</td>\n",
       "      <td>169466634088880352.000</td>\n",
       "      <td>19.751</td>\n",
       "      <td>87715872.193</td>\n",
       "    </tr>\n",
       "    <tr>\n",
       "      <th>min</th>\n",
       "      <td>3752.000</td>\n",
       "      <td>1487580004807082752.000</td>\n",
       "      <td>-79.370</td>\n",
       "      <td>465496.000</td>\n",
       "    </tr>\n",
       "    <tr>\n",
       "      <th>25%</th>\n",
       "      <td>5724652.000</td>\n",
       "      <td>1487580005754995456.000</td>\n",
       "      <td>2.110</td>\n",
       "      <td>483433608.000</td>\n",
       "    </tr>\n",
       "    <tr>\n",
       "      <th>50%</th>\n",
       "      <td>5810718.000</td>\n",
       "      <td>1487580008263189504.000</td>\n",
       "      <td>4.110</td>\n",
       "      <td>554125845.000</td>\n",
       "    </tr>\n",
       "    <tr>\n",
       "      <th>75%</th>\n",
       "      <td>5857952.000</td>\n",
       "      <td>1487580013522845952.000</td>\n",
       "      <td>7.140</td>\n",
       "      <td>579625275.500</td>\n",
       "    </tr>\n",
       "    <tr>\n",
       "      <th>max</th>\n",
       "      <td>5932595.000</td>\n",
       "      <td>2242903426784559104.000</td>\n",
       "      <td>327.780</td>\n",
       "      <td>622090237.000</td>\n",
       "    </tr>\n",
       "  </tbody>\n",
       "</table>\n",
       "</div>"
      ],
      "text/plain": [
       "        product_id             category_id        price       user_id\n",
       "count 19571891.000            19571891.000 19571891.000  19571891.000\n",
       "mean   5481753.730 1554506323053204736.000        8.736 522120816.949\n",
       "std    1310988.312  169466634088880352.000       19.751  87715872.193\n",
       "min       3752.000 1487580004807082752.000      -79.370    465496.000\n",
       "25%    5724652.000 1487580005754995456.000        2.110 483433608.000\n",
       "50%    5810718.000 1487580008263189504.000        4.110 554125845.000\n",
       "75%    5857952.000 1487580013522845952.000        7.140 579625275.500\n",
       "max    5932595.000 2242903426784559104.000      327.780 622090237.000"
      ]
     },
     "execution_count": 10,
     "metadata": {},
     "output_type": "execute_result"
    }
   ],
   "source": [
    "data.describe()"
   ]
  },
  {
   "cell_type": "markdown",
   "metadata": {},
   "source": [
    "發現price欄竟然有一些負值，檢視看看有多少負值。"
   ]
  },
  {
   "cell_type": "code",
   "execution_count": 11,
   "metadata": {},
   "outputs": [
    {
     "data": {
      "text/plain": [
       "124"
      ]
     },
     "execution_count": 11,
     "metadata": {},
     "output_type": "execute_result"
    }
   ],
   "source": [
    "len(data[data['price']<0])"
   ]
  },
  {
   "cell_type": "markdown",
   "metadata": {},
   "source": [
    "相對於總共2000多萬筆數據而言並不多，因此我們選擇過濾這些不合理的值。"
   ]
  },
  {
   "cell_type": "code",
   "execution_count": 12,
   "metadata": {},
   "outputs": [],
   "source": [
    "data = data[data['price']>= 0]"
   ]
  },
  {
   "cell_type": "markdown",
   "metadata": {},
   "source": [
    "檢查缺失值。"
   ]
  },
  {
   "cell_type": "code",
   "execution_count": 13,
   "metadata": {},
   "outputs": [
    {
     "data": {
      "text/plain": [
       "event_time              0\n",
       "event_type              0\n",
       "product_id              0\n",
       "category_id             0\n",
       "category_code    19229009\n",
       "brand             8258403\n",
       "price                   0\n",
       "user_id                 0\n",
       "dtype: int64"
      ]
     },
     "execution_count": 13,
     "metadata": {},
     "output_type": "execute_result"
    }
   ],
   "source": [
    "na = data.isna().sum()\n",
    "na"
   ]
  },
  {
   "cell_type": "markdown",
   "metadata": {},
   "source": [
    "可以看見category_code, brand, user session中都有不少NaN的值，來看一下這三欄中有多少比例的數據是空值。"
   ]
  },
  {
   "cell_type": "code",
   "execution_count": 14,
   "metadata": {},
   "outputs": [
    {
     "data": {
      "text/plain": [
       "event_time       0.000\n",
       "event_type       0.000\n",
       "product_id       0.000\n",
       "category_id      0.000\n",
       "category_code   98.250\n",
       "brand           42.200\n",
       "price            0.000\n",
       "user_id          0.000\n",
       "dtype: float64"
      ]
     },
     "execution_count": 14,
     "metadata": {},
     "output_type": "execute_result"
    }
   ],
   "source": [
    "round(na /data.shape[0], 4)*100"
   ]
  },
  {
   "cell_type": "markdown",
   "metadata": {},
   "source": [
    "category_code中NaN的比例高達98%，加上有意義相近的category_id可以作分析品類使用，因此這邊選擇直接棄用此欄位。"
   ]
  },
  {
   "cell_type": "code",
   "execution_count": 15,
   "metadata": {},
   "outputs": [],
   "source": [
    "data.drop('category_code', axis= 1, inplace= True)"
   ]
  },
  {
   "cell_type": "markdown",
   "metadata": {},
   "source": [
    "brand中有約42%是NaN，將他們替換成Unknown。  "
   ]
  },
  {
   "cell_type": "code",
   "execution_count": 16,
   "metadata": {},
   "outputs": [],
   "source": [
    "data['brand'] = data['brand'].fillna('Unknown')"
   ]
  },
  {
   "cell_type": "markdown",
   "metadata": {},
   "source": [
    "## Changing Datatype\n",
    "新增時間資料與修改資料結構。"
   ]
  },
  {
   "cell_type": "code",
   "execution_count": 17,
   "metadata": {},
   "outputs": [
    {
     "data": {
      "text/plain": [
       "8169123   2019-10-01 00:00:00\n",
       "8169124   2019-10-01 00:00:03\n",
       "8169126   2019-10-01 00:00:07\n",
       "8169125   2019-10-01 00:00:07\n",
       "8169127   2019-10-01 00:00:15\n",
       "Name: event_time, dtype: datetime64[ns]"
      ]
     },
     "execution_count": 17,
     "metadata": {},
     "output_type": "execute_result"
    }
   ],
   "source": [
    "data['event_time'] = pd.to_datetime(data['event_time'], format= '%Y-%m-%d %H:%M:%S UTC')\n",
    "data = data.sort_values(by= 'event_time') \n",
    "data['event_time'].head()"
   ]
  },
  {
   "cell_type": "code",
   "execution_count": 18,
   "metadata": {},
   "outputs": [],
   "source": [
    "data['date'] = data['event_time'].dt.date\n",
    "data['month'] = data['event_time'].dt.strftime('%b %Y') #月份顯示為 月-年 E.g. Feb 2020\n",
    "data['day'] = data['event_time'].dt.day\n",
    "data['weekday'] = data['event_time'].dt.day_name()  # 返回星期幾\n",
    "data['hr'] = data['event_time'].dt.hour"
   ]
  },
  {
   "cell_type": "code",
   "execution_count": 19,
   "metadata": {},
   "outputs": [
    {
     "name": "stdout",
     "output_type": "stream",
     "text": [
      "<class 'pandas.core.frame.DataFrame'>\n",
      "Int64Index: 19571767 entries, 8169123 to 16428087\n",
      "Data columns (total 12 columns):\n",
      " #   Column       Dtype         \n",
      "---  ------       -----         \n",
      " 0   event_time   datetime64[ns]\n",
      " 1   event_type   object        \n",
      " 2   product_id   int64         \n",
      " 3   category_id  int64         \n",
      " 4   brand        object        \n",
      " 5   price        float64       \n",
      " 6   user_id      int64         \n",
      " 7   date         object        \n",
      " 8   month        object        \n",
      " 9   day          int64         \n",
      " 10  weekday      object        \n",
      " 11  hr           int64         \n",
      "dtypes: datetime64[ns](1), float64(1), int64(5), object(5)\n",
      "memory usage: 1.9+ GB\n"
     ]
    }
   ],
   "source": [
    "data.info()"
   ]
  },
  {
   "cell_type": "markdown",
   "metadata": {},
   "source": [
    "## Export Data"
   ]
  },
  {
   "cell_type": "code",
   "execution_count": 20,
   "metadata": {},
   "outputs": [],
   "source": [
    "data.to_csv(\"newdata.csv\", index= False)"
   ]
  },
  {
   "cell_type": "markdown",
   "metadata": {},
   "source": []
  }
 ],
 "metadata": {
  "kernelspec": {
   "display_name": "Python 3 (ipykernel)",
   "language": "python",
   "name": "python3"
  },
  "language_info": {
   "codemirror_mode": {
    "name": "ipython",
    "version": 3
   },
   "file_extension": ".py",
   "mimetype": "text/x-python",
   "name": "python",
   "nbconvert_exporter": "python",
   "pygments_lexer": "ipython3",
   "version": "3.9.13"
  }
 },
 "nbformat": 4,
 "nbformat_minor": 2
}
