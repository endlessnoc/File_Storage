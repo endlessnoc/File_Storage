{
 "cells": [
  {
   "cell_type": "markdown",
   "metadata": {},
   "source": [
    "# eCommerce Events History in Cosmetics Shop View Prediction\n",
    "######  ※因為原始資料檔案太大，因此將Python程式分為資料預處理和資料分析兩部分，本檔案是資料分析的最後一小部分。\n",
    "\n",
    "\n",
    "此專案將針對化妝品電商數據進行分析，並且針對顧客進行分群研究，找出其中的商業價值。  \n",
    "此數據集是一家中型化妝品電商在2019年10月至2020年2月間的各種消費者行為數據。一筆數據代表一個事件，每個事件都類似於產品和用戶之間的多對多關係。\n",
    "\n",
    "1. 資料預處理\n",
    "2. 探索性資料分析\n",
    "3. 重要電商指標分析\n",
    "4. RSFM集群分析\n",
    "5. 集群結果分析\n",
    "6. Tableau視覺化報表\n",
    "7. 測試集集群對照\n",
    "8. 結論\n",
    "\n",
    "Dataset: https://www.kaggle.com/datasets/mkechinov/ecommerce-events-history-in-cosmetics-shop , from  REES46 Marketing Platform."
   ]
  },
  {
   "cell_type": "markdown",
   "metadata": {},
   "source": [
    "## Import Libraries"
   ]
  },
  {
   "cell_type": "code",
   "execution_count": 1,
   "metadata": {},
   "outputs": [],
   "source": [
    "import numpy as np\n",
    "import pandas as pd"
   ]
  },
  {
   "cell_type": "markdown",
   "metadata": {},
   "source": [
    "## Import Data\n",
    "匯入兩份已經完成集群的數據。  \n",
    "data4m是我們主要參考的集群數據；data5m是包含最後一個月的測試組。"
   ]
  },
  {
   "cell_type": "code",
   "execution_count": 2,
   "metadata": {},
   "outputs": [],
   "source": [
    "data4m = pd.read_csv('./final_data2.csv')\n",
    "data5m = pd.read_csv('./final_data.csv')"
   ]
  },
  {
   "cell_type": "markdown",
   "metadata": {},
   "source": [
    "## Processing"
   ]
  },
  {
   "cell_type": "code",
   "execution_count": 3,
   "metadata": {},
   "outputs": [
    {
     "data": {
      "text/html": [
       "<div>\n",
       "<style scoped>\n",
       "    .dataframe tbody tr th:only-of-type {\n",
       "        vertical-align: middle;\n",
       "    }\n",
       "\n",
       "    .dataframe tbody tr th {\n",
       "        vertical-align: top;\n",
       "    }\n",
       "\n",
       "    .dataframe thead th {\n",
       "        text-align: right;\n",
       "    }\n",
       "</style>\n",
       "<table border=\"1\" class=\"dataframe\">\n",
       "  <thead>\n",
       "    <tr style=\"text-align: right;\">\n",
       "      <th></th>\n",
       "      <th>event_time</th>\n",
       "      <th>event_type</th>\n",
       "      <th>product_id</th>\n",
       "      <th>category_id</th>\n",
       "      <th>brand</th>\n",
       "      <th>price</th>\n",
       "      <th>user_id</th>\n",
       "      <th>date</th>\n",
       "      <th>month</th>\n",
       "      <th>day</th>\n",
       "      <th>weekday</th>\n",
       "      <th>hr</th>\n",
       "      <th>group</th>\n",
       "    </tr>\n",
       "  </thead>\n",
       "  <tbody>\n",
       "    <tr>\n",
       "      <th>15661355</th>\n",
       "      <td>2020-01-31 23:59:52</td>\n",
       "      <td>view</td>\n",
       "      <td>5796984</td>\n",
       "      <td>1487580005671109489</td>\n",
       "      <td>masura</td>\n",
       "      <td>1.73</td>\n",
       "      <td>417102560</td>\n",
       "      <td>2020-01-31</td>\n",
       "      <td>Jan 2020</td>\n",
       "      <td>31</td>\n",
       "      <td>Friday</td>\n",
       "      <td>23</td>\n",
       "      <td>Others</td>\n",
       "    </tr>\n",
       "    <tr>\n",
       "      <th>15661356</th>\n",
       "      <td>2020-01-31 23:59:52</td>\n",
       "      <td>remove_from_cart</td>\n",
       "      <td>5886774</td>\n",
       "      <td>1487580006317032337</td>\n",
       "      <td>Unknown</td>\n",
       "      <td>1.59</td>\n",
       "      <td>607092857</td>\n",
       "      <td>2020-01-31</td>\n",
       "      <td>Jan 2020</td>\n",
       "      <td>31</td>\n",
       "      <td>Friday</td>\n",
       "      <td>23</td>\n",
       "      <td>New</td>\n",
       "    </tr>\n",
       "    <tr>\n",
       "      <th>15661357</th>\n",
       "      <td>2020-01-31 23:59:53</td>\n",
       "      <td>view</td>\n",
       "      <td>5875432</td>\n",
       "      <td>2084144451428549153</td>\n",
       "      <td>Unknown</td>\n",
       "      <td>2.05</td>\n",
       "      <td>423651741</td>\n",
       "      <td>2020-01-31</td>\n",
       "      <td>Jan 2020</td>\n",
       "      <td>31</td>\n",
       "      <td>Friday</td>\n",
       "      <td>23</td>\n",
       "      <td>Others</td>\n",
       "    </tr>\n",
       "    <tr>\n",
       "      <th>15661358</th>\n",
       "      <td>2020-01-31 23:59:57</td>\n",
       "      <td>remove_from_cart</td>\n",
       "      <td>5820745</td>\n",
       "      <td>1487580006317032337</td>\n",
       "      <td>Unknown</td>\n",
       "      <td>2.22</td>\n",
       "      <td>607092857</td>\n",
       "      <td>2020-01-31</td>\n",
       "      <td>Jan 2020</td>\n",
       "      <td>31</td>\n",
       "      <td>Friday</td>\n",
       "      <td>23</td>\n",
       "      <td>New</td>\n",
       "    </tr>\n",
       "    <tr>\n",
       "      <th>15661359</th>\n",
       "      <td>2020-01-31 23:59:58</td>\n",
       "      <td>remove_from_cart</td>\n",
       "      <td>5820745</td>\n",
       "      <td>1487580006317032337</td>\n",
       "      <td>Unknown</td>\n",
       "      <td>2.22</td>\n",
       "      <td>607092857</td>\n",
       "      <td>2020-01-31</td>\n",
       "      <td>Jan 2020</td>\n",
       "      <td>31</td>\n",
       "      <td>Friday</td>\n",
       "      <td>23</td>\n",
       "      <td>New</td>\n",
       "    </tr>\n",
       "  </tbody>\n",
       "</table>\n",
       "</div>"
      ],
      "text/plain": [
       "                   event_time        event_type  product_id  \\\n",
       "15661355  2020-01-31 23:59:52              view     5796984   \n",
       "15661356  2020-01-31 23:59:52  remove_from_cart     5886774   \n",
       "15661357  2020-01-31 23:59:53              view     5875432   \n",
       "15661358  2020-01-31 23:59:57  remove_from_cart     5820745   \n",
       "15661359  2020-01-31 23:59:58  remove_from_cart     5820745   \n",
       "\n",
       "                  category_id    brand  price    user_id       date     month  \\\n",
       "15661355  1487580005671109489   masura   1.73  417102560 2020-01-31  Jan 2020   \n",
       "15661356  1487580006317032337  Unknown   1.59  607092857 2020-01-31  Jan 2020   \n",
       "15661357  2084144451428549153  Unknown   2.05  423651741 2020-01-31  Jan 2020   \n",
       "15661358  1487580006317032337  Unknown   2.22  607092857 2020-01-31  Jan 2020   \n",
       "15661359  1487580006317032337  Unknown   2.22  607092857 2020-01-31  Jan 2020   \n",
       "\n",
       "          day weekday  hr   group  \n",
       "15661355   31  Friday  23  Others  \n",
       "15661356   31  Friday  23     New  \n",
       "15661357   31  Friday  23  Others  \n",
       "15661358   31  Friday  23     New  \n",
       "15661359   31  Friday  23     New  "
      ]
     },
     "execution_count": 3,
     "metadata": {},
     "output_type": "execute_result"
    }
   ],
   "source": [
    "#選擇同樣日期的數據，排除掉那些2月才出現的客戶\n",
    "data5m['date'] = pd.to_datetime(data5m['date'])\n",
    "data5m = data5m[data5m['date'] <= '2020-01-31']\n",
    "data5m.tail()"
   ]
  },
  {
   "cell_type": "code",
   "execution_count": 4,
   "metadata": {},
   "outputs": [
    {
     "data": {
      "text/plain": [
       "92652"
      ]
     },
     "execution_count": 4,
     "metadata": {},
     "output_type": "execute_result"
    }
   ],
   "source": [
    "data4m= data4m[data4m['event_type']=='purchase']\n",
    "data5m= data5m[data5m['event_type']=='purchase']\n",
    "data4m['user_id'].nunique()"
   ]
  },
  {
   "cell_type": "code",
   "execution_count": 5,
   "metadata": {},
   "outputs": [
    {
     "data": {
      "text/plain": [
       "92652"
      ]
     },
     "execution_count": 5,
     "metadata": {},
     "output_type": "execute_result"
    }
   ],
   "source": [
    "data5m['user_id'].nunique()"
   ]
  },
  {
   "cell_type": "markdown",
   "metadata": {},
   "source": [
    "檢查集群人數一樣都是92652，沒問題，接著來把兩份資料的集群貼到同一個Dataframe。"
   ]
  },
  {
   "cell_type": "code",
   "execution_count": 6,
   "metadata": {},
   "outputs": [
    {
     "name": "stderr",
     "output_type": "stream",
     "text": [
      "C:\\Users\\arthu\\AppData\\Local\\Temp\\ipykernel_16760\\1401177979.py:3: SettingWithCopyWarning: \n",
      "A value is trying to be set on a copy of a slice from a DataFrame\n",
      "\n",
      "See the caveats in the documentation: https://pandas.pydata.org/pandas-docs/stable/user_guide/indexing.html#returning-a-view-versus-a-copy\n",
      "  data5m_n.rename(columns={'group':'group_5m'}, inplace= True)\n"
     ]
    },
    {
     "data": {
      "text/html": [
       "<div>\n",
       "<style scoped>\n",
       "    .dataframe tbody tr th:only-of-type {\n",
       "        vertical-align: middle;\n",
       "    }\n",
       "\n",
       "    .dataframe tbody tr th {\n",
       "        vertical-align: top;\n",
       "    }\n",
       "\n",
       "    .dataframe thead th {\n",
       "        text-align: right;\n",
       "    }\n",
       "</style>\n",
       "<table border=\"1\" class=\"dataframe\">\n",
       "  <thead>\n",
       "    <tr style=\"text-align: right;\">\n",
       "      <th></th>\n",
       "      <th>user_id</th>\n",
       "      <th>group</th>\n",
       "      <th>group_5m</th>\n",
       "    </tr>\n",
       "  </thead>\n",
       "  <tbody>\n",
       "    <tr>\n",
       "      <th>0</th>\n",
       "      <td>474232307</td>\n",
       "      <td>Sleeping</td>\n",
       "      <td>Sleeping</td>\n",
       "    </tr>\n",
       "    <tr>\n",
       "      <th>380</th>\n",
       "      <td>543446752</td>\n",
       "      <td>Sleeping</td>\n",
       "      <td>Sleeping</td>\n",
       "    </tr>\n",
       "    <tr>\n",
       "      <th>1605</th>\n",
       "      <td>463240011</td>\n",
       "      <td>Sleeping</td>\n",
       "      <td>Sleeping</td>\n",
       "    </tr>\n",
       "    <tr>\n",
       "      <th>1966</th>\n",
       "      <td>550021912</td>\n",
       "      <td>Sleeping</td>\n",
       "      <td>Sleeping</td>\n",
       "    </tr>\n",
       "    <tr>\n",
       "      <th>1970</th>\n",
       "      <td>250032160</td>\n",
       "      <td>Sleeping</td>\n",
       "      <td>Sleeping</td>\n",
       "    </tr>\n",
       "    <tr>\n",
       "      <th>...</th>\n",
       "      <td>...</td>\n",
       "      <td>...</td>\n",
       "      <td>...</td>\n",
       "    </tr>\n",
       "    <tr>\n",
       "      <th>37247625</th>\n",
       "      <td>608809325</td>\n",
       "      <td>HighP</td>\n",
       "      <td>HighP</td>\n",
       "    </tr>\n",
       "    <tr>\n",
       "      <th>37247626</th>\n",
       "      <td>608817151</td>\n",
       "      <td>New</td>\n",
       "      <td>New</td>\n",
       "    </tr>\n",
       "    <tr>\n",
       "      <th>37252803</th>\n",
       "      <td>608812129</td>\n",
       "      <td>New</td>\n",
       "      <td>New</td>\n",
       "    </tr>\n",
       "    <tr>\n",
       "      <th>37252867</th>\n",
       "      <td>593827158</td>\n",
       "      <td>New</td>\n",
       "      <td>New</td>\n",
       "    </tr>\n",
       "    <tr>\n",
       "      <th>37252892</th>\n",
       "      <td>604470329</td>\n",
       "      <td>New</td>\n",
       "      <td>New</td>\n",
       "    </tr>\n",
       "  </tbody>\n",
       "</table>\n",
       "<p>92652 rows × 3 columns</p>\n",
       "</div>"
      ],
      "text/plain": [
       "            user_id     group  group_5m\n",
       "0         474232307  Sleeping  Sleeping\n",
       "380       543446752  Sleeping  Sleeping\n",
       "1605      463240011  Sleeping  Sleeping\n",
       "1966      550021912  Sleeping  Sleeping\n",
       "1970      250032160  Sleeping  Sleeping\n",
       "...             ...       ...       ...\n",
       "37247625  608809325     HighP     HighP\n",
       "37247626  608817151       New       New\n",
       "37252803  608812129       New       New\n",
       "37252867  593827158       New       New\n",
       "37252892  604470329       New       New\n",
       "\n",
       "[92652 rows x 3 columns]"
      ]
     },
     "execution_count": 6,
     "metadata": {},
     "output_type": "execute_result"
    }
   ],
   "source": [
    "data4m_n= data4m[['user_id', 'group']]\n",
    "data5m_n = data5m[['user_id', 'group']]\n",
    "data5m_n.rename(columns={'group':'group_5m'}, inplace= True)\n",
    "data = pd.merge(data4m_n, data5m_n, on= 'user_id', how= 'left')\n",
    "data.drop_duplicates(inplace= True)\n",
    "data['group'] = pd.Categorical(data['group'], categories=['Normal', 'New', 'Loyal', 'HighP', 'Sleeping'], ordered=True)\n",
    "data['group_5m'] = pd.Categorical(data['group_5m'], categories=['Normal', 'New', 'Loyal', 'HighP', 'Sleeping'], ordered=True)\n",
    "data"
   ]
  },
  {
   "cell_type": "markdown",
   "metadata": {},
   "source": [
    "## Check Different Values\n",
    "來看看拿四個月跑集群 VS. 五個月跑集群的結果差異 ~"
   ]
  },
  {
   "cell_type": "code",
   "execution_count": 7,
   "metadata": {},
   "outputs": [
    {
     "name": "stdout",
     "output_type": "stream",
     "text": [
      "<class 'pandas.core.frame.DataFrame'>\n",
      "Int64Index: 12195 entries, 25306 to 37213817\n",
      "Data columns (total 3 columns):\n",
      " #   Column    Non-Null Count  Dtype   \n",
      "---  ------    --------------  -----   \n",
      " 0   user_id   12195 non-null  int64   \n",
      " 1   group     12195 non-null  category\n",
      " 2   group_5m  12195 non-null  category\n",
      "dtypes: category(2), int64(1)\n",
      "memory usage: 214.8 KB\n"
     ]
    }
   ],
   "source": [
    "diff_values = data[data['group'] != data['group_5m']]\n",
    "diff_values.info()"
   ]
  },
  {
   "cell_type": "code",
   "execution_count": 8,
   "metadata": {},
   "outputs": [
    {
     "data": {
      "text/html": [
       "<div>\n",
       "<style scoped>\n",
       "    .dataframe tbody tr th:only-of-type {\n",
       "        vertical-align: middle;\n",
       "    }\n",
       "\n",
       "    .dataframe tbody tr th {\n",
       "        vertical-align: top;\n",
       "    }\n",
       "\n",
       "    .dataframe thead th {\n",
       "        text-align: right;\n",
       "    }\n",
       "</style>\n",
       "<table border=\"1\" class=\"dataframe\">\n",
       "  <thead>\n",
       "    <tr style=\"text-align: right;\">\n",
       "      <th></th>\n",
       "      <th>diff</th>\n",
       "    </tr>\n",
       "    <tr>\n",
       "      <th>group</th>\n",
       "      <th></th>\n",
       "    </tr>\n",
       "  </thead>\n",
       "  <tbody>\n",
       "    <tr>\n",
       "      <th>Normal</th>\n",
       "      <td>3981</td>\n",
       "    </tr>\n",
       "    <tr>\n",
       "      <th>New</th>\n",
       "      <td>6006</td>\n",
       "    </tr>\n",
       "    <tr>\n",
       "      <th>Loyal</th>\n",
       "      <td>1037</td>\n",
       "    </tr>\n",
       "    <tr>\n",
       "      <th>HighP</th>\n",
       "      <td>157</td>\n",
       "    </tr>\n",
       "    <tr>\n",
       "      <th>Sleeping</th>\n",
       "      <td>1014</td>\n",
       "    </tr>\n",
       "  </tbody>\n",
       "</table>\n",
       "</div>"
      ],
      "text/plain": [
       "          diff\n",
       "group         \n",
       "Normal    3981\n",
       "New       6006\n",
       "Loyal     1037\n",
       "HighP      157\n",
       "Sleeping  1014"
      ]
     },
     "execution_count": 8,
     "metadata": {},
     "output_type": "execute_result"
    }
   ],
   "source": [
    "count = pd.DataFrame(diff_values.groupby('group').size()).rename(columns={0: 'diff'})\n",
    "count"
   ]
  },
  {
   "cell_type": "markdown",
   "metadata": {},
   "source": [
    "這樣看好像還好，我們將原本的各群數量（4個月數據的集群）貼過來方便對比。"
   ]
  },
  {
   "cell_type": "code",
   "execution_count": 9,
   "metadata": {},
   "outputs": [
    {
     "data": {
      "text/html": [
       "<div>\n",
       "<style scoped>\n",
       "    .dataframe tbody tr th:only-of-type {\n",
       "        vertical-align: middle;\n",
       "    }\n",
       "\n",
       "    .dataframe tbody tr th {\n",
       "        vertical-align: top;\n",
       "    }\n",
       "\n",
       "    .dataframe thead th {\n",
       "        text-align: right;\n",
       "    }\n",
       "</style>\n",
       "<table border=\"1\" class=\"dataframe\">\n",
       "  <thead>\n",
       "    <tr style=\"text-align: right;\">\n",
       "      <th></th>\n",
       "      <th>group</th>\n",
       "      <th>count</th>\n",
       "      <th>diff</th>\n",
       "    </tr>\n",
       "  </thead>\n",
       "  <tbody>\n",
       "    <tr>\n",
       "      <th>0</th>\n",
       "      <td>Normal</td>\n",
       "      <td>37255</td>\n",
       "      <td>3981</td>\n",
       "    </tr>\n",
       "    <tr>\n",
       "      <th>1</th>\n",
       "      <td>New</td>\n",
       "      <td>36877</td>\n",
       "      <td>6006</td>\n",
       "    </tr>\n",
       "    <tr>\n",
       "      <th>2</th>\n",
       "      <td>Loyal</td>\n",
       "      <td>5091</td>\n",
       "      <td>1037</td>\n",
       "    </tr>\n",
       "    <tr>\n",
       "      <th>3</th>\n",
       "      <td>HighP</td>\n",
       "      <td>2548</td>\n",
       "      <td>157</td>\n",
       "    </tr>\n",
       "    <tr>\n",
       "      <th>4</th>\n",
       "      <td>Sleeping</td>\n",
       "      <td>28747</td>\n",
       "      <td>1014</td>\n",
       "    </tr>\n",
       "  </tbody>\n",
       "</table>\n",
       "</div>"
      ],
      "text/plain": [
       "      group  count  diff\n",
       "0    Normal  37255  3981\n",
       "1       New  36877  6006\n",
       "2     Loyal   5091  1037\n",
       "3     HighP   2548   157\n",
       "4  Sleeping  28747  1014"
      ]
     },
     "execution_count": 9,
     "metadata": {},
     "output_type": "execute_result"
    }
   ],
   "source": [
    "original_count= pd.DataFrame({'group': ['Normal', 'New', 'Loyal', 'HighP', 'Sleeping'],\n",
    "                              'count': [37255, 36877, 5091, 2548, 28747]})\n",
    "\n",
    "final_data= pd.merge(original_count, count, on='group' )\n",
    "final_data"
   ]
  },
  {
   "cell_type": "markdown",
   "metadata": {},
   "source": [
    "轉化成百分比。"
   ]
  },
  {
   "cell_type": "code",
   "execution_count": 10,
   "metadata": {},
   "outputs": [
    {
     "data": {
      "text/html": [
       "<div>\n",
       "<style scoped>\n",
       "    .dataframe tbody tr th:only-of-type {\n",
       "        vertical-align: middle;\n",
       "    }\n",
       "\n",
       "    .dataframe tbody tr th {\n",
       "        vertical-align: top;\n",
       "    }\n",
       "\n",
       "    .dataframe thead th {\n",
       "        text-align: right;\n",
       "    }\n",
       "</style>\n",
       "<table border=\"1\" class=\"dataframe\">\n",
       "  <thead>\n",
       "    <tr style=\"text-align: right;\">\n",
       "      <th></th>\n",
       "      <th>group</th>\n",
       "      <th>count</th>\n",
       "      <th>diff</th>\n",
       "      <th>rate</th>\n",
       "    </tr>\n",
       "  </thead>\n",
       "  <tbody>\n",
       "    <tr>\n",
       "      <th>0</th>\n",
       "      <td>Normal</td>\n",
       "      <td>37255</td>\n",
       "      <td>3981</td>\n",
       "      <td>10.69%</td>\n",
       "    </tr>\n",
       "    <tr>\n",
       "      <th>1</th>\n",
       "      <td>New</td>\n",
       "      <td>36877</td>\n",
       "      <td>6006</td>\n",
       "      <td>16.29%</td>\n",
       "    </tr>\n",
       "    <tr>\n",
       "      <th>2</th>\n",
       "      <td>Loyal</td>\n",
       "      <td>5091</td>\n",
       "      <td>1037</td>\n",
       "      <td>20.37%</td>\n",
       "    </tr>\n",
       "    <tr>\n",
       "      <th>3</th>\n",
       "      <td>HighP</td>\n",
       "      <td>2548</td>\n",
       "      <td>157</td>\n",
       "      <td>6.16%</td>\n",
       "    </tr>\n",
       "    <tr>\n",
       "      <th>4</th>\n",
       "      <td>Sleeping</td>\n",
       "      <td>28747</td>\n",
       "      <td>1014</td>\n",
       "      <td>3.53%</td>\n",
       "    </tr>\n",
       "  </tbody>\n",
       "</table>\n",
       "</div>"
      ],
      "text/plain": [
       "      group  count  diff    rate\n",
       "0    Normal  37255  3981  10.69%\n",
       "1       New  36877  6006  16.29%\n",
       "2     Loyal   5091  1037  20.37%\n",
       "3     HighP   2548   157   6.16%\n",
       "4  Sleeping  28747  1014   3.53%"
      ]
     },
     "execution_count": 10,
     "metadata": {},
     "output_type": "execute_result"
    }
   ],
   "source": [
    "final_data['rate']= (final_data['diff'] / final_data['count']).apply(lambda x: f'{x * 100:.2f}%')\n",
    "final_data"
   ]
  },
  {
   "cell_type": "markdown",
   "metadata": {},
   "source": [
    "由於兩者做集群的過程差異僅在於多使用2月的數據與否，因此這些變化就是2月數據對這些顧客所屬集群影響的體現。  \n",
    "或言之，這些顧客在2月的消費者行為使它們的集群屬性產生了改變。   \n",
    "（可以看見沉睡客戶的變動最少，這個還蠻合理的，畢竟他們的屬性原本就是「很久以前有來過，但也很久沒來了」。）  "
   ]
  },
  {
   "cell_type": "code",
   "execution_count": 11,
   "metadata": {},
   "outputs": [
    {
     "name": "stdout",
     "output_type": "stream",
     "text": [
      "Overall Rate: 11.034402%\n"
     ]
    }
   ],
   "source": [
    "overall_rate = (final_data['diff'].sum() / final_data['count'].sum())\n",
    "print(f'Overall Rate: {overall_rate:%}')"
   ]
  },
  {
   "cell_type": "markdown",
   "metadata": {},
   "source": [
    "整體有11%的顧客集群因為多考量了2月數據而有所改變，我們來看看從各個集群改變到各個集群的人數和比例。"
   ]
  },
  {
   "cell_type": "code",
   "execution_count": 12,
   "metadata": {},
   "outputs": [
    {
     "name": "stdout",
     "output_type": "stream",
     "text": [
      "Normal to Normal: 29781 (88.21%)\n",
      "Normal to New: 561 (1.66%)\n",
      "Normal to Loyal: 379 (1.12%)\n",
      "Normal to HighP: 1 (0.00%)\n",
      "Normal to Sleeping: 3040 (9.00%)\n",
      "New to Normal: 5764 (23.04%)\n",
      "New to New: 19014 (76.00%)\n",
      "New to Loyal: 212 (0.85%)\n",
      "New to HighP: 30 (0.12%)\n",
      "New to Sleeping: 0 (0.00%)\n",
      "Loyal to Normal: 790 (15.04%)\n",
      "Loyal to New: 2 (0.04%)\n",
      "Loyal to Loyal: 4216 (80.26%)\n",
      "Loyal to HighP: 0 (0.00%)\n",
      "Loyal to Sleeping: 245 (4.66%)\n",
      "HighP to Normal: 48 (2.16%)\n",
      "HighP to New: 28 (1.26%)\n",
      "HighP to Loyal: 1 (0.05%)\n",
      "HighP to HighP: 2064 (92.93%)\n",
      "HighP to Sleeping: 80 (3.60%)\n",
      "Sleeping to Normal: 872 (3.30%)\n",
      "Sleeping to New: 0 (0.00%)\n",
      "Sleeping to Loyal: 141 (0.53%)\n",
      "Sleeping to HighP: 1 (0.00%)\n",
      "Sleeping to Sleeping: 25382 (96.16%)\n"
     ]
    }
   ],
   "source": [
    "types = [\"Normal\", \"New\", \"Loyal\", \"HighP\", \"Sleeping\"]\n",
    "for type in types:\n",
    "    counts = data[data[\"group\"] == type].groupby(\"group_5m\").size()\n",
    "    total_count_sum = counts.sum()\n",
    "\n",
    "    for group_5m_type, count in counts.items():\n",
    "        percentage = (count / total_count_sum) * 100 if total_count_sum > 0 else 0\n",
    "        print(f'{type} to {group_5m_type}: {count} ({percentage:.2f}%)')"
   ]
  },
  {
   "cell_type": "markdown",
   "metadata": {},
   "source": [
    "各集群在加入多了2月的消費行為數據後，值得一提的現象包含：\n",
    "- 每種集群的多數客戶維持原先集群的比例都最高，顯示四個月的集群分析的參考價值。\n",
    "- 變成Normal的比例在各群都是次多，這算是蠻合乎常理的狀況（時間拉長之後向平均收斂）。\n",
    "- 變成Sleeping的比例位居第三（除了New），這可能是因為添加了2月的數據，前面的客戶若在2月沒有消費紀錄便容易被歸類於沉睡客戶。\n",
    "- 轉化為高購買力顧客的比例非常低，這類型的客戶在現實中屬於VIP客戶，是可以重點關注的客群。\n",
    "- 轉化為長期忠誠顧客的人比例也非常低，可以重點考量如何增加消費者的購買頻率，但這或許跟店家性質（此為化妝品）有關？\n",
    "- 轉化為新進顧客的比例最低，但這也非常合理，畢竟我們是在原本數據的後面添加一個月。"
   ]
  },
  {
   "cell_type": "markdown",
   "metadata": {},
   "source": [
    "*※程式碼到此為止，專案分析結論詳見簡報檔案。*"
   ]
  }
 ],
 "metadata": {
  "kernelspec": {
   "display_name": "base",
   "language": "python",
   "name": "python3"
  },
  "language_info": {
   "codemirror_mode": {
    "name": "ipython",
    "version": 3
   },
   "file_extension": ".py",
   "mimetype": "text/x-python",
   "name": "python",
   "nbconvert_exporter": "python",
   "pygments_lexer": "ipython3",
   "version": "3.9.13"
  }
 },
 "nbformat": 4,
 "nbformat_minor": 2
}
